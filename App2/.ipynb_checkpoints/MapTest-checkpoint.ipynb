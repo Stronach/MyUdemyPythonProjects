{
 "cells": [
  {
   "cell_type": "code",
   "execution_count": 48,
   "metadata": {},
   "outputs": [
    {
     "ename": "TypeError",
     "evalue": "ufunc 'add' did not contain a loop with signature matching types dtype('<U42') dtype('<U42') dtype('<U42')",
     "output_type": "error",
     "traceback": [
      "\u001b[0;31m---------------------------------------------------------------------------\u001b[0m",
      "\u001b[0;31mTypeError\u001b[0m                                 Traceback (most recent call last)",
      "\u001b[0;32m/Library/Frameworks/Python.framework/Versions/3.5/lib/python3.5/site-packages/pandas/core/ops.py\u001b[0m in \u001b[0;36mna_op\u001b[0;34m(x, y)\u001b[0m\n\u001b[1;32m    675\u001b[0m         \u001b[0;32mtry\u001b[0m\u001b[0;34m:\u001b[0m\u001b[0;34m\u001b[0m\u001b[0m\n\u001b[0;32m--> 676\u001b[0;31m             \u001b[0mresult\u001b[0m \u001b[0;34m=\u001b[0m \u001b[0mexpressions\u001b[0m\u001b[0;34m.\u001b[0m\u001b[0mevaluate\u001b[0m\u001b[0;34m(\u001b[0m\u001b[0mop\u001b[0m\u001b[0;34m,\u001b[0m \u001b[0mstr_rep\u001b[0m\u001b[0;34m,\u001b[0m \u001b[0mx\u001b[0m\u001b[0;34m,\u001b[0m \u001b[0my\u001b[0m\u001b[0;34m,\u001b[0m \u001b[0;34m**\u001b[0m\u001b[0meval_kwargs\u001b[0m\u001b[0;34m)\u001b[0m\u001b[0;34m\u001b[0m\u001b[0m\n\u001b[0m\u001b[1;32m    677\u001b[0m         \u001b[0;32mexcept\u001b[0m \u001b[0mTypeError\u001b[0m\u001b[0;34m:\u001b[0m\u001b[0;34m\u001b[0m\u001b[0m\n",
      "\u001b[0;32m/Library/Frameworks/Python.framework/Versions/3.5/lib/python3.5/site-packages/pandas/core/computation/expressions.py\u001b[0m in \u001b[0;36mevaluate\u001b[0;34m(op, op_str, a, b, use_numexpr, **eval_kwargs)\u001b[0m\n\u001b[1;32m    203\u001b[0m     \u001b[0;32mif\u001b[0m \u001b[0muse_numexpr\u001b[0m\u001b[0;34m:\u001b[0m\u001b[0;34m\u001b[0m\u001b[0m\n\u001b[0;32m--> 204\u001b[0;31m         \u001b[0;32mreturn\u001b[0m \u001b[0m_evaluate\u001b[0m\u001b[0;34m(\u001b[0m\u001b[0mop\u001b[0m\u001b[0;34m,\u001b[0m \u001b[0mop_str\u001b[0m\u001b[0;34m,\u001b[0m \u001b[0ma\u001b[0m\u001b[0;34m,\u001b[0m \u001b[0mb\u001b[0m\u001b[0;34m,\u001b[0m \u001b[0;34m**\u001b[0m\u001b[0meval_kwargs\u001b[0m\u001b[0;34m)\u001b[0m\u001b[0;34m\u001b[0m\u001b[0m\n\u001b[0m\u001b[1;32m    205\u001b[0m     \u001b[0;32mreturn\u001b[0m \u001b[0m_evaluate_standard\u001b[0m\u001b[0;34m(\u001b[0m\u001b[0mop\u001b[0m\u001b[0;34m,\u001b[0m \u001b[0mop_str\u001b[0m\u001b[0;34m,\u001b[0m \u001b[0ma\u001b[0m\u001b[0;34m,\u001b[0m \u001b[0mb\u001b[0m\u001b[0;34m)\u001b[0m\u001b[0;34m\u001b[0m\u001b[0m\n",
      "\u001b[0;32m/Library/Frameworks/Python.framework/Versions/3.5/lib/python3.5/site-packages/pandas/core/computation/expressions.py\u001b[0m in \u001b[0;36m_evaluate_standard\u001b[0;34m(op, op_str, a, b, **eval_kwargs)\u001b[0m\n\u001b[1;32m     63\u001b[0m     \u001b[0;32mwith\u001b[0m \u001b[0mnp\u001b[0m\u001b[0;34m.\u001b[0m\u001b[0merrstate\u001b[0m\u001b[0;34m(\u001b[0m\u001b[0mall\u001b[0m\u001b[0;34m=\u001b[0m\u001b[0;34m'ignore'\u001b[0m\u001b[0;34m)\u001b[0m\u001b[0;34m:\u001b[0m\u001b[0;34m\u001b[0m\u001b[0m\n\u001b[0;32m---> 64\u001b[0;31m         \u001b[0;32mreturn\u001b[0m \u001b[0mop\u001b[0m\u001b[0;34m(\u001b[0m\u001b[0ma\u001b[0m\u001b[0;34m,\u001b[0m \u001b[0mb\u001b[0m\u001b[0;34m)\u001b[0m\u001b[0;34m\u001b[0m\u001b[0m\n\u001b[0m\u001b[1;32m     65\u001b[0m \u001b[0;34m\u001b[0m\u001b[0m\n",
      "\u001b[0;31mTypeError\u001b[0m: Can't convert 'int' object to str implicitly",
      "\nDuring handling of the above exception, another exception occurred:\n",
      "\u001b[0;31mTypeError\u001b[0m                                 Traceback (most recent call last)",
      "\u001b[0;32m/Library/Frameworks/Python.framework/Versions/3.5/lib/python3.5/site-packages/pandas/core/ops.py\u001b[0m in \u001b[0;36msafe_na_op\u001b[0;34m(lvalues, rvalues)\u001b[0m\n\u001b[1;32m    699\u001b[0m             \u001b[0;32mwith\u001b[0m \u001b[0mnp\u001b[0m\u001b[0;34m.\u001b[0m\u001b[0merrstate\u001b[0m\u001b[0;34m(\u001b[0m\u001b[0mall\u001b[0m\u001b[0;34m=\u001b[0m\u001b[0;34m'ignore'\u001b[0m\u001b[0;34m)\u001b[0m\u001b[0;34m:\u001b[0m\u001b[0;34m\u001b[0m\u001b[0m\n\u001b[0;32m--> 700\u001b[0;31m                 \u001b[0;32mreturn\u001b[0m \u001b[0mna_op\u001b[0m\u001b[0;34m(\u001b[0m\u001b[0mlvalues\u001b[0m\u001b[0;34m,\u001b[0m \u001b[0mrvalues\u001b[0m\u001b[0;34m)\u001b[0m\u001b[0;34m\u001b[0m\u001b[0m\n\u001b[0m\u001b[1;32m    701\u001b[0m         \u001b[0;32mexcept\u001b[0m \u001b[0mException\u001b[0m\u001b[0;34m:\u001b[0m\u001b[0;34m\u001b[0m\u001b[0m\n",
      "\u001b[0;32m/Library/Frameworks/Python.framework/Versions/3.5/lib/python3.5/site-packages/pandas/core/ops.py\u001b[0m in \u001b[0;36mna_op\u001b[0;34m(x, y)\u001b[0m\n\u001b[1;32m    681\u001b[0m                 \u001b[0mmask\u001b[0m \u001b[0;34m=\u001b[0m \u001b[0mnotna\u001b[0m\u001b[0;34m(\u001b[0m\u001b[0mx\u001b[0m\u001b[0;34m)\u001b[0m \u001b[0;34m&\u001b[0m \u001b[0mnotna\u001b[0m\u001b[0;34m(\u001b[0m\u001b[0my\u001b[0m\u001b[0;34m)\u001b[0m\u001b[0;34m\u001b[0m\u001b[0m\n\u001b[0;32m--> 682\u001b[0;31m                 \u001b[0mresult\u001b[0m\u001b[0;34m[\u001b[0m\u001b[0mmask\u001b[0m\u001b[0;34m]\u001b[0m \u001b[0;34m=\u001b[0m \u001b[0mop\u001b[0m\u001b[0;34m(\u001b[0m\u001b[0mx\u001b[0m\u001b[0;34m[\u001b[0m\u001b[0mmask\u001b[0m\u001b[0;34m]\u001b[0m\u001b[0;34m,\u001b[0m \u001b[0m_values_from_object\u001b[0m\u001b[0;34m(\u001b[0m\u001b[0my\u001b[0m\u001b[0;34m[\u001b[0m\u001b[0mmask\u001b[0m\u001b[0;34m]\u001b[0m\u001b[0;34m)\u001b[0m\u001b[0;34m)\u001b[0m\u001b[0;34m\u001b[0m\u001b[0m\n\u001b[0m\u001b[1;32m    683\u001b[0m             \u001b[0;32melif\u001b[0m \u001b[0misinstance\u001b[0m\u001b[0;34m(\u001b[0m\u001b[0mx\u001b[0m\u001b[0;34m,\u001b[0m \u001b[0mnp\u001b[0m\u001b[0;34m.\u001b[0m\u001b[0mndarray\u001b[0m\u001b[0;34m)\u001b[0m\u001b[0;34m:\u001b[0m\u001b[0;34m\u001b[0m\u001b[0m\n",
      "\u001b[0;31mTypeError\u001b[0m: Can't convert 'int' object to str implicitly",
      "\nDuring handling of the above exception, another exception occurred:\n",
      "\u001b[0;31mTypeError\u001b[0m                                 Traceback (most recent call last)",
      "\u001b[0;32m<ipython-input-48-cb981f4ac819>\u001b[0m in \u001b[0;36m<module>\u001b[0;34m()\u001b[0m\n\u001b[1;32m      6\u001b[0m \u001b[0mdata\u001b[0m\u001b[0;34m=\u001b[0m\u001b[0mpandas\u001b[0m\u001b[0;34m.\u001b[0m\u001b[0mread_csv\u001b[0m\u001b[0;34m(\u001b[0m\u001b[0;34m\"listings.csv\"\u001b[0m\u001b[0;34m)\u001b[0m\u001b[0;34m\u001b[0m\u001b[0m\n\u001b[1;32m      7\u001b[0m \u001b[0;34m\u001b[0m\u001b[0m\n\u001b[0;32m----> 8\u001b[0;31m \u001b[0mdata\u001b[0m\u001b[0;34m[\u001b[0m\u001b[0;34m\"Address\"\u001b[0m\u001b[0;34m]\u001b[0m \u001b[0;34m=\u001b[0m \u001b[0mdata\u001b[0m\u001b[0;34m[\u001b[0m\u001b[0;34m\"ADDRESS\"\u001b[0m\u001b[0;34m]\u001b[0m\u001b[0;34m+\u001b[0m\u001b[0;34m\", \"\u001b[0m\u001b[0;34m+\u001b[0m \u001b[0mdata\u001b[0m\u001b[0;34m[\u001b[0m\u001b[0;34m\"TAX TOWNSHIP\"\u001b[0m\u001b[0;34m]\u001b[0m\u001b[0;34m+\u001b[0m\u001b[0;34m\", \"\u001b[0m\u001b[0;34m+\u001b[0m \u001b[0mdata\u001b[0m\u001b[0;34m[\u001b[0m\u001b[0;34m\"STATE\"\u001b[0m\u001b[0;34m]\u001b[0m\u001b[0;34m+\u001b[0m\u001b[0;34m\", \"\u001b[0m\u001b[0;34m+\u001b[0m \u001b[0mdata\u001b[0m\u001b[0;34m[\u001b[0m\u001b[0;34m\"MAILING ZIPCODE\"\u001b[0m\u001b[0;34m]\u001b[0m\u001b[0;34m\u001b[0m\u001b[0m\n\u001b[0m",
      "\u001b[0;32m/Library/Frameworks/Python.framework/Versions/3.5/lib/python3.5/site-packages/pandas/core/ops.py\u001b[0m in \u001b[0;36mwrapper\u001b[0;34m(left, right, name, na_op)\u001b[0m\n\u001b[1;32m    737\u001b[0m                 \u001b[0mlvalues\u001b[0m \u001b[0;34m=\u001b[0m \u001b[0mlvalues\u001b[0m\u001b[0;34m.\u001b[0m\u001b[0mvalues\u001b[0m\u001b[0;34m\u001b[0m\u001b[0m\n\u001b[1;32m    738\u001b[0m \u001b[0;34m\u001b[0m\u001b[0m\n\u001b[0;32m--> 739\u001b[0;31m         \u001b[0mresult\u001b[0m \u001b[0;34m=\u001b[0m \u001b[0mwrap_results\u001b[0m\u001b[0;34m(\u001b[0m\u001b[0msafe_na_op\u001b[0m\u001b[0;34m(\u001b[0m\u001b[0mlvalues\u001b[0m\u001b[0;34m,\u001b[0m \u001b[0mrvalues\u001b[0m\u001b[0;34m)\u001b[0m\u001b[0;34m)\u001b[0m\u001b[0;34m\u001b[0m\u001b[0m\n\u001b[0m\u001b[1;32m    740\u001b[0m         return construct_result(\n\u001b[1;32m    741\u001b[0m             \u001b[0mleft\u001b[0m\u001b[0;34m,\u001b[0m\u001b[0;34m\u001b[0m\u001b[0m\n",
      "\u001b[0;32m/Library/Frameworks/Python.framework/Versions/3.5/lib/python3.5/site-packages/pandas/core/ops.py\u001b[0m in \u001b[0;36msafe_na_op\u001b[0;34m(lvalues, rvalues)\u001b[0m\n\u001b[1;32m    708\u001b[0m                 \u001b[0;32mif\u001b[0m \u001b[0mis_object_dtype\u001b[0m\u001b[0;34m(\u001b[0m\u001b[0mlvalues\u001b[0m\u001b[0;34m)\u001b[0m\u001b[0;34m:\u001b[0m\u001b[0;34m\u001b[0m\u001b[0m\n\u001b[1;32m    709\u001b[0m                     return libalgos.arrmap_object(lvalues,\n\u001b[0;32m--> 710\u001b[0;31m                                                   lambda x: op(x, rvalues))\n\u001b[0m\u001b[1;32m    711\u001b[0m             \u001b[0;32mraise\u001b[0m\u001b[0;34m\u001b[0m\u001b[0m\n\u001b[1;32m    712\u001b[0m \u001b[0;34m\u001b[0m\u001b[0m\n",
      "\u001b[0;32mpandas/_libs/algos_common_helper.pxi\u001b[0m in \u001b[0;36mpandas._libs.algos.arrmap_object\u001b[0;34m()\u001b[0m\n",
      "\u001b[0;32m/Library/Frameworks/Python.framework/Versions/3.5/lib/python3.5/site-packages/pandas/core/ops.py\u001b[0m in \u001b[0;36m<lambda>\u001b[0;34m(x)\u001b[0m\n\u001b[1;32m    708\u001b[0m                 \u001b[0;32mif\u001b[0m \u001b[0mis_object_dtype\u001b[0m\u001b[0;34m(\u001b[0m\u001b[0mlvalues\u001b[0m\u001b[0;34m)\u001b[0m\u001b[0;34m:\u001b[0m\u001b[0;34m\u001b[0m\u001b[0m\n\u001b[1;32m    709\u001b[0m                     return libalgos.arrmap_object(lvalues,\n\u001b[0;32m--> 710\u001b[0;31m                                                   lambda x: op(x, rvalues))\n\u001b[0m\u001b[1;32m    711\u001b[0m             \u001b[0;32mraise\u001b[0m\u001b[0;34m\u001b[0m\u001b[0m\n\u001b[1;32m    712\u001b[0m \u001b[0;34m\u001b[0m\u001b[0m\n",
      "\u001b[0;31mTypeError\u001b[0m: ufunc 'add' did not contain a loop with signature matching types dtype('<U42') dtype('<U42') dtype('<U42')"
     ]
    }
   ],
   "source": [
    "import folium\n",
    "import pandas\n",
    "import geopy\n",
    "from geopy.geocoders import Nominatim\n",
    "nom=Nominatim()\n",
    "data=pandas.read_csv(\"listings.csv\")\n",
    "\n",
    "data[\"Address\"] = data[\"ADDRESS\"]+\", \"+ data[\"TAX TOWNSHIP\"]+\", \"+ data[\"STATE\"]+\", \"+ data[str(\"MAILING ZIPCODE\")]"
   ]
  },
  {
   "cell_type": "code",
   "execution_count": 37,
   "metadata": {},
   "outputs": [
    {
     "data": {
      "text/plain": [
       "0    445 Holmesville Hill Rd., New Berlin, NY, 0   ...\n",
       "1    302 Balcom Hill Rd, Columbus, NY, 0    13843\\n...\n",
       "2    548 Holmesville Hill Rd, New Berlin, NY, 0    ...\n",
       "3    420 Hakes Calhoun Rd, Pitcher, NY, 0    13843\\...\n",
       "4    11 State St, Oxford, NY, 0    13843\\n1    1346...\n",
       "5    1605 State Hwy 26, Otselic, NY, 0    13843\\n1 ...\n",
       "Name: Address, dtype: object"
      ]
     },
     "execution_count": 37,
     "metadata": {},
     "output_type": "execute_result"
    }
   ],
   "source": [
    "data[\"Address\"]"
   ]
  },
  {
   "cell_type": "code",
   "execution_count": 47,
   "metadata": {},
   "outputs": [
    {
     "name": "stdout",
     "output_type": "stream",
     "text": [
      "['445 Holmesville Hill Rd., New Berlin, NY, 0    13843\\n1    13460\\n2    13843\\n3    13136\\n4    13830\\n5    13155\\nName: MAILING ZIPCODE, dtype: int64', '302 Balcom Hill Rd, Columbus, NY, 0    13843\\n1    13460\\n2    13843\\n3    13136\\n4    13830\\n5    13155\\nName: MAILING ZIPCODE, dtype: int64', '548 Holmesville Hill Rd, New Berlin, NY, 0    13843\\n1    13460\\n2    13843\\n3    13136\\n4    13830\\n5    13155\\nName: MAILING ZIPCODE, dtype: int64', '420 Hakes Calhoun Rd, Pitcher, NY, 0    13843\\n1    13460\\n2    13843\\n3    13136\\n4    13830\\n5    13155\\nName: MAILING ZIPCODE, dtype: int64', '11 State St, Oxford, NY, 0    13843\\n1    13460\\n2    13843\\n3    13136\\n4    13830\\n5    13155\\nName: MAILING ZIPCODE, dtype: int64', '1605 State Hwy 26, Otselic, NY, 0    13843\\n1    13460\\n2    13843\\n3    13136\\n4    13830\\n5    13155\\nName: MAILING ZIPCODE, dtype: int64']\n",
      "['445 Holmesville Hill Rd., New Berlin, NY, 0    13843\\n1    13460\\n2    13843\\n3    13136\\n4    13830\\n5    13155\\nName: MAILING ZIPCODE, dtype: int64', '302 Balcom Hill Rd, Columbus, NY, 0    13843\\n1    13460\\n2    13843\\n3    13136\\n4    13830\\n5    13155\\nName: MAILING ZIPCODE, dtype: int64', '548 Holmesville Hill Rd, New Berlin, NY, 0    13843\\n1    13460\\n2    13843\\n3    13136\\n4    13830\\n5    13155\\nName: MAILING ZIPCODE, dtype: int64', '420 Hakes Calhoun Rd, Pitcher, NY, 0    13843\\n1    13460\\n2    13843\\n3    13136\\n4    13830\\n5    13155\\nName: MAILING ZIPCODE, dtype: int64', '11 State St, Oxford, NY, 0    13843\\n1    13460\\n2    13843\\n3    13136\\n4    13830\\n5    13155\\nName: MAILING ZIPCODE, dtype: int64', '1605 State Hwy 26, Otselic, NY, 0    13843\\n1    13460\\n2    13843\\n3    13136\\n4    13830\\n5    13155\\nName: MAILING ZIPCODE, dtype: int64']\n",
      "['445 Holmesville Hill Rd., New Berlin, NY, 0    13843\\n1    13460\\n2    13843\\n3    13136\\n4    13830\\n5    13155\\nName: MAILING ZIPCODE, dtype: int64', '302 Balcom Hill Rd, Columbus, NY, 0    13843\\n1    13460\\n2    13843\\n3    13136\\n4    13830\\n5    13155\\nName: MAILING ZIPCODE, dtype: int64', '548 Holmesville Hill Rd, New Berlin, NY, 0    13843\\n1    13460\\n2    13843\\n3    13136\\n4    13830\\n5    13155\\nName: MAILING ZIPCODE, dtype: int64', '420 Hakes Calhoun Rd, Pitcher, NY, 0    13843\\n1    13460\\n2    13843\\n3    13136\\n4    13830\\n5    13155\\nName: MAILING ZIPCODE, dtype: int64', '11 State St, Oxford, NY, 0    13843\\n1    13460\\n2    13843\\n3    13136\\n4    13830\\n5    13155\\nName: MAILING ZIPCODE, dtype: int64', '1605 State Hwy 26, Otselic, NY, 0    13843\\n1    13460\\n2    13843\\n3    13136\\n4    13830\\n5    13155\\nName: MAILING ZIPCODE, dtype: int64']\n",
      "['445 Holmesville Hill Rd., New Berlin, NY, 0    13843\\n1    13460\\n2    13843\\n3    13136\\n4    13830\\n5    13155\\nName: MAILING ZIPCODE, dtype: int64', '302 Balcom Hill Rd, Columbus, NY, 0    13843\\n1    13460\\n2    13843\\n3    13136\\n4    13830\\n5    13155\\nName: MAILING ZIPCODE, dtype: int64', '548 Holmesville Hill Rd, New Berlin, NY, 0    13843\\n1    13460\\n2    13843\\n3    13136\\n4    13830\\n5    13155\\nName: MAILING ZIPCODE, dtype: int64', '420 Hakes Calhoun Rd, Pitcher, NY, 0    13843\\n1    13460\\n2    13843\\n3    13136\\n4    13830\\n5    13155\\nName: MAILING ZIPCODE, dtype: int64', '11 State St, Oxford, NY, 0    13843\\n1    13460\\n2    13843\\n3    13136\\n4    13830\\n5    13155\\nName: MAILING ZIPCODE, dtype: int64', '1605 State Hwy 26, Otselic, NY, 0    13843\\n1    13460\\n2    13843\\n3    13136\\n4    13830\\n5    13155\\nName: MAILING ZIPCODE, dtype: int64']\n",
      "['445 Holmesville Hill Rd., New Berlin, NY, 0    13843\\n1    13460\\n2    13843\\n3    13136\\n4    13830\\n5    13155\\nName: MAILING ZIPCODE, dtype: int64', '302 Balcom Hill Rd, Columbus, NY, 0    13843\\n1    13460\\n2    13843\\n3    13136\\n4    13830\\n5    13155\\nName: MAILING ZIPCODE, dtype: int64', '548 Holmesville Hill Rd, New Berlin, NY, 0    13843\\n1    13460\\n2    13843\\n3    13136\\n4    13830\\n5    13155\\nName: MAILING ZIPCODE, dtype: int64', '420 Hakes Calhoun Rd, Pitcher, NY, 0    13843\\n1    13460\\n2    13843\\n3    13136\\n4    13830\\n5    13155\\nName: MAILING ZIPCODE, dtype: int64', '11 State St, Oxford, NY, 0    13843\\n1    13460\\n2    13843\\n3    13136\\n4    13830\\n5    13155\\nName: MAILING ZIPCODE, dtype: int64', '1605 State Hwy 26, Otselic, NY, 0    13843\\n1    13460\\n2    13843\\n3    13136\\n4    13830\\n5    13155\\nName: MAILING ZIPCODE, dtype: int64']\n",
      "['445 Holmesville Hill Rd., New Berlin, NY, 0    13843\\n1    13460\\n2    13843\\n3    13136\\n4    13830\\n5    13155\\nName: MAILING ZIPCODE, dtype: int64', '302 Balcom Hill Rd, Columbus, NY, 0    13843\\n1    13460\\n2    13843\\n3    13136\\n4    13830\\n5    13155\\nName: MAILING ZIPCODE, dtype: int64', '548 Holmesville Hill Rd, New Berlin, NY, 0    13843\\n1    13460\\n2    13843\\n3    13136\\n4    13830\\n5    13155\\nName: MAILING ZIPCODE, dtype: int64', '420 Hakes Calhoun Rd, Pitcher, NY, 0    13843\\n1    13460\\n2    13843\\n3    13136\\n4    13830\\n5    13155\\nName: MAILING ZIPCODE, dtype: int64', '11 State St, Oxford, NY, 0    13843\\n1    13460\\n2    13843\\n3    13136\\n4    13830\\n5    13155\\nName: MAILING ZIPCODE, dtype: int64', '1605 State Hwy 26, Otselic, NY, 0    13843\\n1    13460\\n2    13843\\n3    13136\\n4    13830\\n5    13155\\nName: MAILING ZIPCODE, dtype: int64']\n"
     ]
    }
   ],
   "source": [
    "for n in data[\"Address\"]:\n",
    "    x=list(data[\"Address\"])\n",
    "    print(x)"
   ]
  },
  {
   "cell_type": "code",
   "execution_count": 43,
   "metadata": {},
   "outputs": [
    {
     "ename": "AttributeError",
     "evalue": "'list' object has no attribute 'latitude'",
     "output_type": "error",
     "traceback": [
      "\u001b[0;31m---------------------------------------------------------------------------\u001b[0m",
      "\u001b[0;31mAttributeError\u001b[0m                            Traceback (most recent call last)",
      "\u001b[0;32m<ipython-input-43-3c77254c290d>\u001b[0m in \u001b[0;36m<module>\u001b[0;34m()\u001b[0m\n\u001b[0;32m----> 1\u001b[0;31m \u001b[0mx\u001b[0m\u001b[0;34m.\u001b[0m\u001b[0mlatitude\u001b[0m\u001b[0;34m\u001b[0m\u001b[0m\n\u001b[0m",
      "\u001b[0;31mAttributeError\u001b[0m: 'list' object has no attribute 'latitude'"
     ]
    }
   ],
   "source": [
    "x.latitude"
   ]
  },
  {
   "cell_type": "code",
   "execution_count": null,
   "metadata": {},
   "outputs": [],
   "source": []
  }
 ],
 "metadata": {
  "kernelspec": {
   "display_name": "Python 3",
   "language": "python",
   "name": "python3"
  },
  "language_info": {
   "codemirror_mode": {
    "name": "ipython",
    "version": 3
   },
   "file_extension": ".py",
   "mimetype": "text/x-python",
   "name": "python",
   "nbconvert_exporter": "python",
   "pygments_lexer": "ipython3",
   "version": "3.5.2"
  }
 },
 "nbformat": 4,
 "nbformat_minor": 2
}
