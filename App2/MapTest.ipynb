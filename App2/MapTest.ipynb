{
 "cells": [
  {
   "cell_type": "code",
   "execution_count": 93,
   "metadata": {},
   "outputs": [],
   "source": [
    "import folium\n",
    "import pandas\n",
    "import geopy\n",
    "from geopy.geocoders import Nominatim\n",
    "\n",
    "nom=Nominatim()\n",
    "data=pandas.read_csv(\"listings.csv\", dtype={'MAILING ZIPCODE': 'str'})\n",
    "\n",
    "\n",
    "data[\"Address\"] = data[\"ADDRESS\"]+\", \"+ data[\"MAILING ZIPCODE\"] +\", \"+ data[\"STATE\"]"
   ]
  },
  {
   "cell_type": "code",
   "execution_count": 94,
   "metadata": {
    "scrolled": true
   },
   "outputs": [
    {
     "data": {
      "text/plain": [
       "0    445 Holmesville Hill Road, 13843\n",
       "1          302 Balcom Hill Rd., 13460\n",
       "2      548 Holmesville Hill Rd, 13843\n",
       "3         420 Hakes Calhoun Rd, 13136\n",
       "4                  11 State St, 13830\n",
       "5        1605 State Highway 26, 13155\n",
       "Name: Address, dtype: object"
      ]
     },
     "execution_count": 94,
     "metadata": {},
     "output_type": "execute_result"
    }
   ],
   "source": [
    "data[\"Address\"]"
   ]
  },
  {
   "cell_type": "code",
   "execution_count": 95,
   "metadata": {},
   "outputs": [],
   "source": [
    "data[\"Cordinates\"]=data[\"Address\"].apply(nom.geocode)"
   ]
  },
  {
   "cell_type": "code",
   "execution_count": 97,
   "metadata": {
    "scrolled": true
   },
   "outputs": [
    {
     "data": {
      "text/plain": [
       "0    (Holmesville Hill Road, Town of Norwich, Chena...\n",
       "1                                                 None\n",
       "2    (Holmesville Hill Road, Town of Norwich, Chena...\n",
       "3    (Hakes Calhoun Road, Pitcher, Town of Pitcher,...\n",
       "4    (State Street, Oxford, Town of Oxford, Chenang...\n",
       "5    (State Highway 26, South Otselic, Town of Otse...\n",
       "Name: Cordinates, dtype: object"
      ]
     },
     "execution_count": 97,
     "metadata": {},
     "output_type": "execute_result"
    }
   ],
   "source": [
    "data.Cordinates"
   ]
  },
  {
   "cell_type": "code",
   "execution_count": 73,
   "metadata": {},
   "outputs": [],
   "source": [
    "for lt in data.Cordinates:\n",
    "    data[\"LAT\"]=lt.latitude\n",
    "    data[\"LON\"]=lt.longitude\n",
    "    "
   ]
  },
  {
   "cell_type": "code",
   "execution_count": 74,
   "metadata": {},
   "outputs": [],
   "source": [
    "lat = list(data[\"LAT\"])\n",
    "lon = list(data[\"LON\"])\n",
    "map = folium.Map(location =[43,-75], zoom_start=5, tiles=\"Mapbox Bright\")\n",
    "fg = folium.FeatureGroup(name=\"My Map\")\n",
    "\n",
    "\n",
    "for lt, ln in zip(lat,lon):\n",
    "    fg.add_child(folium.Marker(location = [lt,ln], popup=\"\"\"<h3>This is a popup<h3>\"\"\", icon=folium.Icon('green')))\n",
    "map.add_child(fg)\n",
    "\n",
    "map.save(\"Map1.html\")"
   ]
  },
  {
   "cell_type": "code",
   "execution_count": null,
   "metadata": {},
   "outputs": [],
   "source": []
  }
 ],
 "metadata": {
  "kernelspec": {
   "display_name": "Python 3",
   "language": "python",
   "name": "python3"
  },
  "language_info": {
   "codemirror_mode": {
    "name": "ipython",
    "version": 3
   },
   "file_extension": ".py",
   "mimetype": "text/x-python",
   "name": "python",
   "nbconvert_exporter": "python",
   "pygments_lexer": "ipython3",
   "version": "3.5.2"
  }
 },
 "nbformat": 4,
 "nbformat_minor": 2
}
