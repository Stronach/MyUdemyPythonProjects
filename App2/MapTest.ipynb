{
 "cells": [
  {
   "cell_type": "code",
   "execution_count": 144,
   "metadata": {},
   "outputs": [],
   "source": [
    "import folium\n",
    "import pandas\n",
    "import geopy\n",
    "from geopy.geocoders import Nominatim\n",
    "\n",
    "nom=Nominatim()\n",
    "data=pandas.read_csv(\"listings.csv\", dtype={'MAILING ZIPCODE': 'str'})\n",
    "\n",
    "data[\"Address\"] = data[\"ADDRESS\"]+\", \"+ data[\"STATE\"]+\", \"+ data[\"MAILING ZIPCODE\"]"
   ]
  },
  {
   "cell_type": "code",
   "execution_count": 145,
   "metadata": {},
   "outputs": [
    {
     "data": {
      "text/plain": [
       "0    445 Holmesville Hill Road, NY, 13843\n",
       "1          302 Balcom Hill Rd., NY, 13460\n",
       "2      548 Holmesville Hill Rd, NY, 13843\n",
       "3         420 Hakes Calhoun Rd, NY, 13136\n",
       "4                  11 State St, NY, 13830\n",
       "5            1605 State Hwy 26, NY, 13155\n",
       "Name: Address, dtype: object"
      ]
     },
     "execution_count": 145,
     "metadata": {},
     "output_type": "execute_result"
    }
   ],
   "source": [
    "data[\"Address\"]"
   ]
  },
  {
   "cell_type": "code",
   "execution_count": 157,
   "metadata": {},
   "outputs": [],
   "source": [
    "data[\"Cordinates\"]=data[\"Address\"].apply(nom.geocode)"
   ]
  },
  {
   "cell_type": "code",
   "execution_count": 158,
   "metadata": {},
   "outputs": [
    {
     "data": {
      "text/plain": [
       "0    (Holmesville Hill Road, Town of Norwich, Chena...\n",
       "1    (Balcom Hill Road, Columbus, Town of Columbus,...\n",
       "2    (Holmesville Hill Road, Town of Norwich, Chena...\n",
       "3    (Hakes Calhoun Road, Pitcher, Town of Pitcher,...\n",
       "4    (11, State Street, Hampton Bays, Suffolk Count...\n",
       "5                                                 None\n",
       "Name: Cordinates, dtype: object"
      ]
     },
     "execution_count": 158,
     "metadata": {},
     "output_type": "execute_result"
    }
   ],
   "source": [
    "data.Cordinates"
   ]
  },
  {
   "cell_type": "code",
   "execution_count": 159,
   "metadata": {},
   "outputs": [],
   "source": [
    "n=nom.geocode(data[\"Address\"])"
   ]
  },
  {
   "cell_type": "code",
   "execution_count": 161,
   "metadata": {},
   "outputs": [
    {
     "data": {
      "text/plain": [
       "NoneType"
      ]
     },
     "execution_count": 161,
     "metadata": {},
     "output_type": "execute_result"
    }
   ],
   "source": [
    "type(n)"
   ]
  },
  {
   "cell_type": "code",
   "execution_count": null,
   "metadata": {},
   "outputs": [],
   "source": []
  }
 ],
 "metadata": {
  "kernelspec": {
   "display_name": "Python 3",
   "language": "python",
   "name": "python3"
  },
  "language_info": {
   "codemirror_mode": {
    "name": "ipython",
    "version": 3
   },
   "file_extension": ".py",
   "mimetype": "text/x-python",
   "name": "python",
   "nbconvert_exporter": "python",
   "pygments_lexer": "ipython3",
   "version": "3.5.2"
  }
 },
 "nbformat": 4,
 "nbformat_minor": 2
}
